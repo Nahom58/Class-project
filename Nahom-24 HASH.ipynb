{
 "cells": [
  {
   "cell_type": "markdown",
   "metadata": {},
   "source": [
    "Before you turn this problem in, make sure everything runs as expected. First, **restart the kernel** (in the menubar, select Kernel$\\rightarrow$Restart) and then **run all cells** (in the menubar, select Cell$\\rightarrow$Run All).\n",
    "\n",
    "Note that this Pre-class Work is estimated to take **45 minutes**.\n",
    "\n",
    "Make sure you fill in any place that says `YOUR CODE HERE` or \"YOUR ANSWER HERE\", as well as your name and collaborators below:"
   ]
  },
  {
   "cell_type": "code",
   "execution_count": null,
   "metadata": {},
   "outputs": [],
   "source": [
    "NAME = \"Nahom Agize\"\n",
    "COLLABORATORS = \"\""
   ]
  },
  {
   "cell_type": "markdown",
   "metadata": {},
   "source": [
    "---"
   ]
  },
  {
   "cell_type": "markdown",
   "metadata": {
    "deletable": false,
    "editable": false,
    "nbgrader": {
     "checksum": "4d981108d5cc409ac26cfbe6fa53cb1f",
     "grade": false,
     "grade_id": "cell-5b237cc13279b029",
     "locked": true,
     "schema_version": 1,
     "solution": false
    }
   },
   "source": [
    "# CS110 Pre-class Work - Hash tables and hash functions\n",
    "\n",
    "## Part A. Direct Address Tables [time estimate: 10 minutes]\n",
    "\n",
    "As the first step in setting up a crossword solving algorithm you need to create 2 direct address tables, one to store all the “up” answers - whether correct or not - and one to store all the “across” answers. Write python code to create a direct address table that allows you to:\n",
    "\n",
    "1. initialize N empty guesses\n",
    "2. set a guess for the i-th entry\n",
    "3. clear an incorrect guess for the i-th entry\n"
   ]
  },
  {
   "cell_type": "code",
   "execution_count": 2,
   "metadata": {
    "deletable": false,
    "nbgrader": {
     "checksum": "69e5d714c7245702b8732209ea0b2b42",
     "grade": true,
     "grade_id": "cell-d8d2e3c1b136cdb9",
     "locked": false,
     "points": 0,
     "schema_version": 1,
     "solution": true
    }
   },
   "outputs": [],
   "source": [
    "# Initialize guesses by creating a list of None values of length N\n",
    "def initialize_guesses(N):\n",
    "    return N*[None]\n",
    "\n",
    "# Changes an element of the table of guesses to be a input guess in an input entry\n",
    "def set_guess(guesses, entry, guess):\n",
    "    guesses[entry] = guess\n",
    "    \n",
    "# Sets a value in the table of guesses to None\n",
    "def clear_guess(guesses, entry):\n",
    "    guesses[entry] = None\n",
    "#raise NotImplementedError()"
   ]
  },
  {
   "cell_type": "markdown",
   "metadata": {
    "deletable": false,
    "editable": false,
    "nbgrader": {
     "checksum": "cdb562114e50f9ce1c97be3536b59efa",
     "grade": false,
     "grade_id": "cell-b27891b3ff16f730",
     "locked": true,
     "schema_version": 1,
     "solution": false
    }
   },
   "source": [
    "## Part B. Social Security [time estimate: 3 minutes]\n",
    "\n",
    "Could we use a direct address table to store a country's entire set of social security numbers (aka id numbers)? Why or why not?\n"
   ]
  },
  {
   "cell_type": "markdown",
   "metadata": {
    "deletable": false,
    "nbgrader": {
     "checksum": "7b193e66cbea5bd9dac131a3d6adfefa",
     "grade": true,
     "grade_id": "cell-e751647d9af78c11",
     "locked": false,
     "points": 0,
     "schema_version": 1,
     "solution": true
    }
   },
   "source": [
    "We could. If we are relating every unique social security number to a name, and we assume that names are fairly unique, the number of keys won't be much smaller than the number of entries. This means |K| may be comparable to |U|. In that case, it could be reasonable to use a direct address table as searching using hash tables could take a fairly long amount of time anyways."
   ]
  },
  {
   "cell_type": "markdown",
   "metadata": {
    "deletable": false,
    "editable": false,
    "nbgrader": {
     "checksum": "35f74a7f882cabb36df7ee2c43ee51db",
     "grade": false,
     "grade_id": "cell-cba2028918eea1fd",
     "locked": true,
     "schema_version": 1,
     "solution": false
    }
   },
   "source": [
    "## Part C. Chained Hash-table [time estimate: 32 minutes]\n",
    "\n",
    "### Question 1 [time estimate: 7 minutes]\n",
    "\n",
    "Using the code in the cell below, complete the missing sections of code. You should copy and paste the code in an additional cell and fill in the code there."
   ]
  },
  {
   "cell_type": "code",
   "execution_count": 12,
   "metadata": {
    "deletable": false,
    "editable": false,
    "nbgrader": {
     "checksum": "ffc1d9c145de9e5c52f96dfdc8a66fe2",
     "grade": false,
     "grade_id": "cell-9e41d88b035338f4",
     "locked": true,
     "schema_version": 1,
     "solution": false
    }
   },
   "outputs": [],
   "source": [
    "import random\n",
    "import string\n",
    "\n",
    "\n",
    "def randomword(length):\n",
    "    return ''.join(random.choice(string.ascii_lowercase) for i in range(length))\n",
    "\n",
    "\n",
    "def empty_hash_table(N):\n",
    "    return [[] for n in range(N)]\n",
    "\n",
    "\n",
    "def add_to_hash_table(hash_table, item, hash_function):\n",
    "    N = len(hash_table)\n",
    "    # YOUR CODE HERE\n",
    "    return hash_table\n",
    "\n",
    "\n",
    "def contains(hash_table, item, hash_function):\n",
    "    N = len(hash_table)\n",
    "    # YOUR CODE HERE\n",
    "    # return true if the item has already been stored in the hash_table\n",
    "\n",
    "\n",
    "def remove(hash_table, item, hash_function):\n",
    "    if not contains(hash_table, item, hash_function):\n",
    "        raise ValueError()\n",
    "    # YOUR CODE HERE\n",
    "    return hash_table\n",
    "\n",
    "\n",
    "# Hash Functions\n",
    "def hash_str1(string):\n",
    "    ans = 0\n",
    "    for chr in string:\n",
    "        ans += ord(chr)\n",
    "    return ans\n",
    "\n",
    "def hash_str2(string):\n",
    "    ans=int(ord(string[0]))\n",
    "    for ix in range(1, len(string)):\n",
    "        ans = ans ^ ord(string[ix]) \n",
    "    return int(bin(ans).split('b')[1])\n",
    "\n",
    "def hash_str3(string):\n",
    "    ans = 0\n",
    "    for chr in string:\n",
    "        ans = ans * 128 + ord(chr)\n",
    "    return ans\n",
    "\n",
    "def hash_str4(string):\n",
    "    random.seed(ord(string[0]))\n",
    "    return random.getrandbits(32)"
   ]
  },
  {
   "cell_type": "code",
   "execution_count": 13,
   "metadata": {
    "deletable": false,
    "nbgrader": {
     "checksum": "b39c1af2de8a4581d16a2d630fcaac74",
     "grade": true,
     "grade_id": "cell-1b6cc6df105c101f",
     "locked": false,
     "points": 0,
     "schema_version": 1,
     "solution": true
    }
   },
   "outputs": [],
   "source": [
    "# Returns a string of input length composed of random ASCII characters\n",
    "def randomword(length):\n",
    "    return ''.join(random.choice(string.ascii_lowercase) for i in range(length))\n",
    " \n",
    "# Creates a list of input length N of empty lists (an empty hash table)\n",
    "def empty_hash_table(N):\n",
    "    return [[] for n in range(N)]\n",
    "# Adds an element to the hash table using a hash function to index it\n",
    "def add_to_hash_table(hash_table, item, hash_function):\n",
    "    N = len(hash_table)\n",
    "# Define the key by applying the hash function to the item we want to add\n",
    "    key = hash_function(item)\n",
    "    \n",
    "# We assume the key will be a natural number, and so we can force it to be\n",
    "# Define an index on the hash table that is equal to key mod N\n",
    "    try:\n",
    "        ind = key % N\n",
    "\n",
    "# If the key is a binary, we split the number on the 'b' and convert the number to a base-10 integer\n",
    "    except TypeError:\n",
    "        key = int(key.split('b')[1])\n",
    "        ind = key % N\n",
    "# Append the item to the correct list in the hash table\n",
    "    hash_table[ind].append(item)\n",
    "\n",
    "    return hash_table\n",
    "\n",
    "# Verifies that the hash table contains an item\n",
    "def contains(hash_table, item, hash_function):\n",
    "    N = len(hash_table)\n",
    "\n",
    "    key = hash_function(item)\n",
    "\n",
    "    try:\n",
    "        ind = key % N\n",
    "\n",
    "    # If the key is a binary, we split the number on the 'b' and convert the number to a base-10 integer\n",
    "    except TypeError:\n",
    "        key = int(key.split('b')[1])\n",
    "        ind = key % N\n",
    "\n",
    "    if item in hash_table[ind]:\n",
    "        return True\n",
    "    # return true if the item has already been stored in the hash_table\n",
    "    # Removes an element from the hash table using the hash function\n",
    "def remove(hash_table, item, hash_function):\n",
    "    if not contains(hash_table, item, hash_function):\n",
    "        raise ValueError()\n",
    "    else:\n",
    "        key = hash_function(item)\n",
    "        try:\n",
    "            ind = key % N\n",
    "            \n",
    "    # If the key is a binary, we split the number on the 'b' and convert the number to a base-10 integer\n",
    "        except TypeError:\n",
    "            key = int(key.split('b')[1])\n",
    "            ind = key % N\n",
    "    # Convert value in the index to None\n",
    "        hash_table[ind] = None\n",
    "    return hash_table\n",
    " \n",
    "# Defines a hash function that takes all characters in a string and sums up their Unicode values\n",
    "def hash_str1(string):\n",
    "    ans = 0\n",
    "    for chr in string:\n",
    "        ans += ord(chr)\n",
    "    return ans\n",
    "\n",
    "# Defines a second hash function that outputs a binary number\n",
    "def hash_str2(string):\n",
    "    ans=int(ord(string[0]))\n",
    "    for ix in range(1, len(string)):\n",
    "        ans = ans ^ ord(string[ix])\n",
    "    return bin(ans)\n",
    "\n",
    "# Defines a third hash function that returns the radix-128 integer version of the string\n",
    "def hash_str3(string):\n",
    "    ans = 0\n",
    "    for chr in string:\n",
    "        ans = ans * 128 + ord(chr)\n",
    "    return ans\n",
    "\n",
    "# Defines a 4th hash function that takes the first character of the string as a seed and generates random bits\n",
    "def hash_str4(string):\n",
    "    random.seed(ord(string[0]))\n",
    "    return random.getrandbits(32)\n",
    "#raise NotImplementedError()"
   ]
  },
  {
   "cell_type": "markdown",
   "metadata": {
    "deletable": false,
    "editable": false,
    "nbgrader": {
     "checksum": "d323c68243f6d1fe79cbf5ad01ee85ae",
     "grade": false,
     "grade_id": "cell-66fb150dd2e509a7",
     "locked": true,
     "schema_version": 1,
     "solution": false
    }
   },
   "source": [
    "### Question 2 [time estimate: 2 minutes]\n",
    "\n",
    "Using the code, create 100,000 words of 10 characters each."
   ]
  },
  {
   "cell_type": "code",
   "execution_count": 14,
   "metadata": {
    "deletable": false,
    "nbgrader": {
     "checksum": "b9d2f1faad23eecd6f3691968bb4e455",
     "grade": true,
     "grade_id": "cell-234b1e83c871ddc7",
     "locked": false,
     "points": 0,
     "schema_version": 1,
     "solution": true
    }
   },
   "outputs": [],
   "source": [
    "words = []\n",
    "n_words = 100000\n",
    "\n",
    "# Append random words to the list of words\n",
    "for i in range(n_words):\n",
    "    words.append(randomword(10))\n",
    "#raise NotImplementedError()"
   ]
  },
  {
   "cell_type": "markdown",
   "metadata": {
    "deletable": false,
    "editable": false,
    "nbgrader": {
     "checksum": "190e7fdc00fc311f5ff32a390fff1ca4",
     "grade": false,
     "grade_id": "cell-2fbadca52cec7230",
     "locked": true,
     "schema_version": 1,
     "solution": false
    }
   },
   "source": [
    "### Question 3 [time estimate: 2 minutes]\n",
    "\n",
    "Create four chained hash-tables with 5000 slots."
   ]
  },
  {
   "cell_type": "code",
   "execution_count": 16,
   "metadata": {
    "deletable": false,
    "nbgrader": {
     "checksum": "0d1473300ae336ceb57d11687ab3ec0a",
     "grade": true,
     "grade_id": "cell-2dabefc41493ec16",
     "locked": false,
     "points": 0,
     "schema_version": 1,
     "solution": true
    }
   },
   "outputs": [],
   "source": [
    "#create 4 hash tables with 5000 slots each\n",
    "n_slots = 5000\n",
    "\n",
    "t1 = empty_hash_table(n_slots)\n",
    "t2 = empty_hash_table(n_slots)\n",
    "t3 = empty_hash_table(n_slots)\n",
    "t4 = empty_hash_table(n_slots)\n",
    "\n",
    "\n",
    "#raise NotImplementedError()"
   ]
  },
  {
   "cell_type": "markdown",
   "metadata": {
    "deletable": false,
    "editable": false,
    "nbgrader": {
     "checksum": "c3d147917ae237a6dc75eddab48dbaa6",
     "grade": false,
     "grade_id": "cell-cc2e6d00330e691e",
     "locked": true,
     "schema_version": 1,
     "solution": false
    }
   },
   "source": [
    "### Question 4 [time estimate: 2 minutes]\n",
    "\n",
    "Store all the words in each chained hash table using each of the different hash functions."
   ]
  },
  {
   "cell_type": "code",
   "execution_count": 18,
   "metadata": {
    "deletable": false,
    "nbgrader": {
     "checksum": "af209dceb17bf5f8d9fadf0808855f79",
     "grade": true,
     "grade_id": "cell-8a08ade8d45590a7",
     "locked": false,
     "points": 0,
     "schema_version": 1,
     "solution": true
    }
   },
   "outputs": [],
   "source": [
    "# Add all words to all hash tables\n",
    "for w in words:\n",
    "# Use add_to_hash_table to add each word\\n\",\n",
    "    t1 = add_to_hash_table(t1, w, hash_str1)\n",
    "    t2 = add_to_hash_table(t2, w, hash_str2)\n",
    "    t3 = add_to_hash_table(t3, w, hash_str3)\n",
    "    t4 = add_to_hash_table(t4, w, hash_str4)\n",
    "\n",
    "    \n",
    "    #raise NotImplementedError()"
   ]
  },
  {
   "cell_type": "markdown",
   "metadata": {
    "deletable": false,
    "editable": false,
    "nbgrader": {
     "checksum": "858437d142a66b825fb0bebdb1c4d9fe",
     "grade": false,
     "grade_id": "cell-da2c8b42618fbde4",
     "locked": true,
     "schema_version": 1,
     "solution": false
    }
   },
   "source": [
    "### Question 5 [time estimate: 4 minutes]\n",
    "\n",
    "Measure the number of collisions for each hash function."
   ]
  },
  {
   "cell_type": "code",
   "execution_count": 20,
   "metadata": {
    "deletable": false,
    "nbgrader": {
     "checksum": "156f57bc1c6c1a3e10ca1804aa205099",
     "grade": true,
     "grade_id": "cell-a968f9e14a0416c4",
     "locked": false,
     "points": 0,
     "schema_version": 1,
     "solution": true
    }
   },
   "outputs": [],
   "source": [
    "htables = [t1,t2,t3,t4]\n",
    "\n",
    "def collision_counter(htables):\n",
    "    \"\"\"\n",
    "    Input: list of hash tables\n",
    "\n",
    "    Output: Number of collisions in each hash table in the list\n",
    "    \n",
    "    \"\"\"\n",
    "\n",
    "    n_tables = len(htables)\n",
    "    collisions_counts = [0] * n_tables\n",
    "    for i in range(n_tables):\n",
    "        for j in htables[i]:\n",
    "            if len(j) > 1:\n",
    "                collisions_counts[i] += len(j)-1\n",
    "    print(collisions_counts)\n",
    "\n",
    "\n",
    "\n",
    "\n",
    "#raise NotImplementedError()"
   ]
  },
  {
   "cell_type": "markdown",
   "metadata": {
    "deletable": false,
    "editable": false,
    "nbgrader": {
     "checksum": "ef47cabb10897284ca375490003e6b3d",
     "grade": false,
     "grade_id": "cell-435ba1cfb2d80447",
     "locked": true,
     "schema_version": 1,
     "solution": false
    }
   },
   "source": [
    "### Question 6 [time estimate: 5 minutes]\n",
    "\n",
    "For each of the hash functions, how many elements are in a bucket on average (if it is not empty)?\n"
   ]
  },
  {
   "cell_type": "code",
   "execution_count": 32,
   "metadata": {
    "deletable": false,
    "nbgrader": {
     "checksum": "9f77d346c6e5ffbfb92ac0707c3c1d72",
     "grade": true,
     "grade_id": "cell-b4052afa2ee7c702",
     "locked": false,
     "points": 0,
     "schema_version": 1,
     "solution": true
    }
   },
   "outputs": [
    {
     "name": "stdout",
     "output_type": "stream",
     "text": [
      "Average number of elements is 555.5555555555555 , 6250.0 , 20.0 and 3846.153846153846 respectively\n"
     ]
    }
   ],
   "source": [
    "def avg_elem_counter(htables):    \n",
    "    n_tables = len(htables)    \n",
    "    elem_counters = [0] * n_tables    \n",
    "    buckets = [0] * n_tables    \n",
    "    avgs = []    \n",
    "    for htable in htables:       \n",
    "        for slot in range(len(htable)):        \n",
    "            if len(htable[slot]) > 0:                \n",
    "                elem_counters += len(htable[slot])          \n",
    "                buckets+= 1\n",
    "                avgs.append(elem_counters[i]/buckets[i])   \n",
    "    print(avgs, buckets)\n",
    "    \n",
    "# Counters for the number of buckets in each hash table\n",
    "buckets1 = 0\n",
    "buckets2 = 0\n",
    "buckets3 = 0\n",
    "buckets4 = 0\n",
    "    \n",
    "for slot in range(n_slots):\n",
    "    if len(t1[slot]) > 0:\n",
    "        buckets1 += 1\n",
    "    if len(t2[slot]) > 0:\n",
    "        buckets2 += 1\n",
    "    if len(t3[slot]) > 0:\n",
    "        buckets3 += 1\n",
    "    if len(t4[slot]) > 0:\n",
    "        buckets4 += 1\n",
    "#raise NotImplementedError()\n",
    "\n",
    "\n",
    "print(\"Average number of elements is\", n_words/buckets1, \",\" , n_words/buckets2, \",\" ,  n_words/buckets3, \"and\" ,  n_words/buckets4 , \"respectively\" )"
   ]
  },
  {
   "cell_type": "markdown",
   "metadata": {
    "deletable": false,
    "editable": false,
    "nbgrader": {
     "checksum": "aaeb9bd55b7a86f8bc8079cbb7f8bca4",
     "grade": false,
     "grade_id": "cell-b86aef4dd22c236c",
     "locked": true,
     "schema_version": 1,
     "solution": false
    }
   },
   "source": [
    "### Question 7 [time estimate: 5 minutes]\n",
    "\n",
    "Time how long it takes to find elements that are in each hash table.\n"
   ]
  },
  {
   "cell_type": "code",
   "execution_count": 41,
   "metadata": {
    "deletable": false,
    "nbgrader": {
     "checksum": "23927c46b8067f49ef10e9b4183f7680",
     "grade": true,
     "grade_id": "cell-0605f7dec7128414",
     "locked": false,
     "points": 0,
     "schema_version": 1,
     "solution": true
    }
   },
   "outputs": [
    {
     "name": "stdout",
     "output_type": "stream",
     "text": [
      "To find all the 100000 words using hash funciton 1,2,3,and 4 , it takes 4.147892713546753 , 18.362712383270264 , 0.8589005470275879 and 13.360796689987183 respectively\n"
     ]
    }
   ],
   "source": [
    "import time\n",
    "# Create 4 variables to count the total time it takes to search for all words in a hash table\n",
    "time1 = 0\n",
    "time2 = 0\n",
    "time3 = 0\n",
    "time4 = 0\n",
    "  \n",
    "for w in words:\n",
    "\n",
    "    start1 = time.time()\n",
    "    contains(t1, w, hash_str1)\n",
    "    end1 = time.time()\n",
    "    time1 += end1 - start1\n",
    "\n",
    "    start2 = time.time()\n",
    "    contains(t2, w, hash_str2)\n",
    "    end2 = time.time()\n",
    "    time2 += end2 - start2\n",
    "\n",
    "    start3 = time.time()\n",
    "    contains(t3, w, hash_str3)\n",
    "    end3 = time.time()\n",
    "    time3 += end3 - start3\n",
    "\n",
    "    start4 = time.time()\n",
    "    contains(t4, w, hash_str4)\n",
    "    end4 = time.time()\n",
    "    time4 += end4 - start4\n",
    "#raise NotImplementedError()\n",
    "\n",
    "print(\"To find all the 100000 words using hash funciton 1,2,3,and 4 , it takes\", time1 ,\",\",time2,\",\",time3, \"and\", time4, \"respectively\")                                "
   ]
  },
  {
   "cell_type": "code",
   "execution_count": 38,
   "metadata": {},
   "outputs": [
    {
     "name": "stdout",
     "output_type": "stream",
     "text": [
      "On average, hash functions 1,2,3,and 4 take 4.0435264110565186e-05 , 0.00017698903799057006 , 9.478402137756347e-06 and 0.00012766873836517334 respectively\n"
     ]
    }
   ],
   "source": [
    "print(\"On average, hash functions 1,2,3,and 4 take\", time1/len(words) ,\",\",time2/len(words),\",\",time3/len(words), \"and\", time4/len(words), \"respectively\") "
   ]
  },
  {
   "cell_type": "markdown",
   "metadata": {
    "deletable": false,
    "editable": false,
    "nbgrader": {
     "checksum": "b051093ca9a2faf1658679380bf29033",
     "grade": false,
     "grade_id": "cell-75db2c2e62cec090",
     "locked": true,
     "schema_version": 1,
     "solution": false
    }
   },
   "source": [
    "### Question 8 [time estimate: 5 minutes]\n",
    "\n",
    "For each hash table, time how long it takes to find 10,000 elements that have not been stored."
   ]
  },
  {
   "cell_type": "code",
   "execution_count": 43,
   "metadata": {
    "deletable": false,
    "nbgrader": {
     "checksum": "99b2fa8c88000c2143cb00fac1f6aa5f",
     "grade": true,
     "grade_id": "cell-b846b45e1b98ae59",
     "locked": false,
     "points": 0,
     "schema_version": 1,
     "solution": true
    }
   },
   "outputs": [],
   "source": [
    "new_words = []\n",
    "n_words = 10000\n",
    "\n",
    "for i in range(n_words):\n",
    "    new_words.append(randomword(8))\n",
    "\n",
    "# Create 4 new vairables for timing\n",
    "ntime1 = 0\n",
    "ntime2 = 0\n",
    "ntime3 = 0\n",
    "ntime4 = 0   \n",
    "    \n",
    "for nw in new_words:\n",
    "\n",
    "    start1 = time.time()\n",
    "    contains(t1, nw, hash_str1)\n",
    "    end1 = time.time()\n",
    "    ntime1 += end1 - start1\n",
    "\n",
    "    start2 = time.time()\n",
    "    contains(t2, nw, hash_str2)\n",
    "    end2 = time.time()\n",
    "    ntime2 += end2 - start2\n",
    "\n",
    "    start3 = time.time()\n",
    "    contains(t3, nw, hash_str3)\n",
    "    end3 = time.time()\n",
    "    ntime3 += end3 - start3\n",
    "\n",
    "    start4 = time.time()\n",
    "    contains(t4, nw, hash_str4)\n",
    "    end4 = time.time()\n",
    "    ntime4 += end4 - start4\n",
    "\n",
    "print(\"To not find all the 10,000 new words using hash funcitons 1,2,3,and 4, it takes\", ntime1,\",\",ntime2,\",\",ntime3,\"\",ntime4, \"respectively\" )\n",
    "  \n",
    "\n",
    "\n",
    "\n",
    "\n",
    " #raise NotImplementedError()"
   ]
  },
  {
   "cell_type": "code",
   "execution_count": null,
   "metadata": {},
   "outputs": [],
   "source": []
  }
 ],
 "metadata": {
  "kernelspec": {
   "display_name": "Python 3",
   "language": "python",
   "name": "python3"
  },
  "language_info": {
   "codemirror_mode": {
    "name": "ipython",
    "version": 3
   },
   "file_extension": ".py",
   "mimetype": "text/x-python",
   "name": "python",
   "nbconvert_exporter": "python",
   "pygments_lexer": "ipython3",
   "version": "3.7.3"
  }
 },
 "nbformat": 4,
 "nbformat_minor": 4
}
